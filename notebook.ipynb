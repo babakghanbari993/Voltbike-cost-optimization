{
 "cells": [
  {
   "cell_type": "markdown",
   "id": "8d0bcede-0826-475c-8678-72835c042b37",
   "metadata": {},
   "source": [
    "VoltBike Innovations\n",
    "\n",
    "VoltBike Innovations is a leading company in the electric bicycle (e-bike) industry, specializing in the design and manufacture of high-performance e-bikes. The company is dedicated to advancing urban mobility solutions by delivering state-of-the-art e-bikes with features such as varying motor powers, advanced battery capacities, and efficient charge systems.\n",
    "\n",
    "Recently, VoltBike Innovations has encountered some challenges in managing production costs while ensuring high levels of customer satisfaction. These issues have led to increased production expenses and variability in costs, impacting overall profitability.\n",
    "\n",
    "You are part of the data analysis team tasked with providing actionable insights to help VoltBike Innovations address these challenges."
   ]
  },
  {
   "cell_type": "markdown",
   "id": "c0d5a3bb-bbae-4d39-a6c6-daa46c470347",
   "metadata": {},
   "source": [
    "# Task 1\n",
    "\n",
    "Before you can start any analysis, you need to confirm that the data is accurate and reflects what you expect to see. \n",
    "\n",
    "It is known that there are some issues with the `production_data` table, and the data team have provided the following data description. \n",
    "\n",
    "Write a query to return data matching this description. You must match all column names and description criteria.\n",
    "</br>\n",
    "Create a cleaned version of the dataframe.\n",
    "\n",
    "- You should start with the data in the file `ebike_data.csv`.\n",
    "- Your output should be a dataframe named clean_data.\n",
    "- All column names and values should match the table below.\n",
    "</br>\n",
    "\n",
    "| Column Name         | Criteria                                                                                         |\n",
    "|----------------------|--------------------------------------------------------------------------------------------------|\n",
    "| bike_type            | Categorical. Type of e-bike. ['standard', 'folding', 'mountain', 'road']. <br> Missing values should be replaced with 'standard'. |\n",
    "| frame_material       | Categorical. Material of the e-bike frame. ['aluminum', 'steel', 'carbon fiber']. <br> Missing values should be replaced with 'unknown'. |\n",
    "| production_cost      | Continuous. Cost of production (in USD). <br> Missing values should be replaced with median. |\n",
    "| assembly_time        | Continuous. Time taken for assembly (in minutes). <br> Missing values should be replaced with mean. |\n",
    "| top_speed            | Continuous. Maximum speed of the e-bike (in km/h). <br> Missing values should be replaced with mean. |\n",
    "| battery_type         | Categorical. Type of battery used. ['li-ion', 'nimh', 'lead acid']. <br> Missing values should be replaced with 'other'. |\n",
    "| motor_power          | Continuous. Power output of the motor (in watts). <br> Missing values should be replaced with median. |\n",
    "| customer_score       | Continuous. Customer satisfaction score (rating on a scale of 1 to 10). <br> Missing values should be replaced with mean. |\n",
    "\n"
   ]
  },
  {
   "cell_type": "code",
   "execution_count": 1,
   "id": "5ce18b54-29af-4beb-bc8c-79c4e21bcd52",
   "metadata": {
    "executionCancelledAt": null,
    "executionTime": 49,
    "lastExecutedAt": 1735004324704,
    "lastExecutedByKernel": "388d554a-4bd8-4837-b857-1a6d6e0db61a",
    "lastScheduledRunId": null,
    "lastSuccessfullyExecutedCode": "import pandas as pd\n\n# Load the data\ndf = pd.read_csv('ebike_data.csv')\n\n# Clean motor_power column: Remove non-numeric characters and convert to numeric\ndf['motor_power'] = df['motor_power'].replace(r'[^\\d.]', '', regex=True)\ndf['motor_power'] = pd.to_numeric(df['motor_power'], errors='coerce')\n\n# Clean categorical columns: Replace common representations of missing values\ncategorical_columns = {\n    'bike_type': 'standard',\n    'frame_material': 'unknown',\n    'battery_type': 'other'\n}\n\nfor col in categorical_columns:\n    # Replace unexpected representations of missing values\n    df[col] = df[col].replace(['-', 'missing', 'null', 'none', None], categorical_columns[col])\n    # Standardize the categories (e.g., make lowercase for consistency)\n    df[col] = df[col].str.strip().str.lower()\n\n# Clean continuous columns and replace missing values\ncontinuous_columns = {\n    'production_cost': df['production_cost'].median(),\n    'assembly_time': df['assembly_time'].mean(),\n    'top_speed': df['top_speed'].mean(),\n    'motor_power': df['motor_power'].median(),\n    'customer_score': df['customer_score'].mean()\n}\n\n# Replace missing values with the specified default (median or mean) using fillna\nfor col, default_value in continuous_columns.items():\n    df[col] = df[col].fillna(default_value)  # Use fillna to replace missing values\n    df[col] = pd.to_numeric(df[col], errors='coerce')  # Ensure all values are numeric\n    df[col] = df[col].round(2)  # Round to 2 decimal places\n\n# Final cleaned dataframe\nclean_data = df.copy()\n\n# Display the cleaned data to verify\nclean_data.head()\n",
    "outputsMetadata": {
     "0": {
      "height": 50,
      "tableState": {
       "customFilter": {
        "const": {
         "type": "boolean",
         "valid": true,
         "value": true
        },
        "id": "363d12f5-e0f6-40b9-874a-69dce0877967",
        "nodeType": "const"
       },
       "quickFilterText": ""
      },
      "type": "dataFrame"
     }
    }
   },
   "outputs": [
    {
     "data": {
      "text/html": [
       "<div>\n",
       "<style scoped>\n",
       "    .dataframe tbody tr th:only-of-type {\n",
       "        vertical-align: middle;\n",
       "    }\n",
       "\n",
       "    .dataframe tbody tr th {\n",
       "        vertical-align: top;\n",
       "    }\n",
       "\n",
       "    .dataframe thead th {\n",
       "        text-align: right;\n",
       "    }\n",
       "</style>\n",
       "<table border=\"1\" class=\"dataframe\">\n",
       "  <thead>\n",
       "    <tr style=\"text-align: right;\">\n",
       "      <th></th>\n",
       "      <th>bike_type</th>\n",
       "      <th>frame_material</th>\n",
       "      <th>production_cost</th>\n",
       "      <th>assembly_time</th>\n",
       "      <th>top_speed</th>\n",
       "      <th>battery_type</th>\n",
       "      <th>motor_power</th>\n",
       "      <th>customer_score</th>\n",
       "    </tr>\n",
       "  </thead>\n",
       "  <tbody>\n",
       "    <tr>\n",
       "      <th>0</th>\n",
       "      <td>road</td>\n",
       "      <td>aluminum</td>\n",
       "      <td>219.21</td>\n",
       "      <td>62.24</td>\n",
       "      <td>19.63</td>\n",
       "      <td>lead acid</td>\n",
       "      <td>317</td>\n",
       "      <td>3.01</td>\n",
       "    </tr>\n",
       "    <tr>\n",
       "      <th>1</th>\n",
       "      <td>road</td>\n",
       "      <td>steel</td>\n",
       "      <td>617.81</td>\n",
       "      <td>87.40</td>\n",
       "      <td>26.15</td>\n",
       "      <td>nimh</td>\n",
       "      <td>230</td>\n",
       "      <td>6.67</td>\n",
       "    </tr>\n",
       "    <tr>\n",
       "      <th>2</th>\n",
       "      <td>road</td>\n",
       "      <td>steel</td>\n",
       "      <td>608.50</td>\n",
       "      <td>57.26</td>\n",
       "      <td>27.84</td>\n",
       "      <td>li-ion</td>\n",
       "      <td>300</td>\n",
       "      <td>7.29</td>\n",
       "    </tr>\n",
       "    <tr>\n",
       "      <th>3</th>\n",
       "      <td>mountain</td>\n",
       "      <td>steel</td>\n",
       "      <td>701.25</td>\n",
       "      <td>56.78</td>\n",
       "      <td>30.16</td>\n",
       "      <td>other</td>\n",
       "      <td>369</td>\n",
       "      <td>9.35</td>\n",
       "    </tr>\n",
       "    <tr>\n",
       "      <th>4</th>\n",
       "      <td>road</td>\n",
       "      <td>carbon fiber</td>\n",
       "      <td>584.79</td>\n",
       "      <td>66.15</td>\n",
       "      <td>19.77</td>\n",
       "      <td>li-ion</td>\n",
       "      <td>282</td>\n",
       "      <td>7.81</td>\n",
       "    </tr>\n",
       "  </tbody>\n",
       "</table>\n",
       "</div>"
      ],
      "text/plain": [
       "  bike_type frame_material  production_cost  assembly_time  top_speed  \\\n",
       "0      road       aluminum           219.21          62.24      19.63   \n",
       "1      road          steel           617.81          87.40      26.15   \n",
       "2      road          steel           608.50          57.26      27.84   \n",
       "3  mountain          steel           701.25          56.78      30.16   \n",
       "4      road   carbon fiber           584.79          66.15      19.77   \n",
       "\n",
       "  battery_type  motor_power  customer_score  \n",
       "0    lead acid          317            3.01  \n",
       "1         nimh          230            6.67  \n",
       "2       li-ion          300            7.29  \n",
       "3        other          369            9.35  \n",
       "4       li-ion          282            7.81  "
      ]
     },
     "execution_count": 1,
     "metadata": {},
     "output_type": "execute_result"
    }
   ],
   "source": [
    "import pandas as pd\n",
    "df = pd.read_csv('ebike_data.csv')\n",
    "\n",
    "# Cleaning the data\n",
    "df['motor_power'] = df['motor_power'].replace(r'[^\\d.]', '', regex=True)\n",
    "df['motor_power'] = pd.to_numeric(df['motor_power'], errors='coerce')\n",
    "\n",
    "\n",
    "categorical_columns = {\n",
    "    'bike_type': 'standard',\n",
    "    'frame_material': 'unknown',\n",
    "    'battery_type': 'other'\n",
    "}\n",
    "\n",
    "for col in categorical_columns:\n",
    "    df[col] = df[col].replace(['-', 'missing', 'null', 'none', None], categorical_columns[col])\n",
    "    df[col] = df[col].str.strip().str.lower()\n",
    "\n",
    "continuous_columns = {\n",
    "    'production_cost': df['production_cost'].median(),\n",
    "    'assembly_time': df['assembly_time'].mean(),\n",
    "    'top_speed': df['top_speed'].mean(),\n",
    "    'motor_power': df['motor_power'].median(),\n",
    "    'customer_score': df['customer_score'].mean()\n",
    "}\n",
    "\n",
    "for col, default_value in continuous_columns.items():\n",
    "    df[col] = df[col].fillna(default_value) \n",
    "    df[col] = pd.to_numeric(df[col], errors='coerce') \n",
    "    df[col] = df[col].round(2) \n",
    "\n",
    "# Final cleaned dataframe\n",
    "clean_data = df.copy()\n",
    "clean_data.head()\n"
   ]
  },
  {
   "cell_type": "markdown",
   "id": "026b3c30-d3b0-4762-ae10-0f2880873bdc",
   "metadata": {},
   "source": [
    "# Task 2\n",
    "\n",
    "You want to understand how different types of e-bikes influence production costs, assembly times, and customer satisfaction.\n",
    "\n",
    "Calculate the average production_cost, assembly_time, and customer_score grouped by bike_type.\n",
    "\n",
    "- You should start with the data in the file `ebike_data.csv`.\n",
    "- Your output should be a data frame named `bike_type_data`.\n",
    "- It should include the four columns:`bike_type`, `avg_production_cost`, `avg_assembly_time`, and `avg_customer_score`.\n",
    "- Your answers should be rounded to 2 decimal places."
   ]
  },
  {
   "cell_type": "code",
   "execution_count": 3,
   "id": "6d47e440-c4ab-45cf-af40-53181764bac4",
   "metadata": {
    "executionCancelledAt": null,
    "executionTime": 50,
    "lastExecutedAt": 1735004324754,
    "lastExecutedByKernel": "388d554a-4bd8-4837-b857-1a6d6e0db61a",
    "lastScheduledRunId": null,
    "lastSuccessfullyExecutedCode": "# Task 2\n# Group by bike_type and calculate the averages for the relevant columns\nbike_type_data = df.groupby('bike_type').agg(\n    avg_production_cost=('production_cost', 'mean'),\n    avg_assembly_time=('assembly_time', 'mean'),\n    avg_customer_score=('customer_score', 'mean')\n).reset_index()\n\n# Round the values to 2 decimal places\nbike_type_data = bike_type_data.round({'avg_production_cost': 2, 'avg_assembly_time': 2, 'avg_customer_score': 2})\n\n# Display the resulting data\nbike_type_data\n",
    "outputsMetadata": {
     "0": {
      "height": 50,
      "tableState": {
       "customFilter": {
        "const": {
         "type": "boolean",
         "valid": true,
         "value": true
        },
        "id": "363d12f5-e0f6-40b9-874a-69dce0877967",
        "nodeType": "const"
       },
       "quickFilterText": ""
      },
      "type": "dataFrame"
     }
    }
   },
   "outputs": [
    {
     "data": {
      "text/html": [
       "<div>\n",
       "<style scoped>\n",
       "    .dataframe tbody tr th:only-of-type {\n",
       "        vertical-align: middle;\n",
       "    }\n",
       "\n",
       "    .dataframe tbody tr th {\n",
       "        vertical-align: top;\n",
       "    }\n",
       "\n",
       "    .dataframe thead th {\n",
       "        text-align: right;\n",
       "    }\n",
       "</style>\n",
       "<table border=\"1\" class=\"dataframe\">\n",
       "  <thead>\n",
       "    <tr style=\"text-align: right;\">\n",
       "      <th></th>\n",
       "      <th>bike_type</th>\n",
       "      <th>avg_production_cost</th>\n",
       "      <th>avg_assembly_time</th>\n",
       "      <th>avg_customer_score</th>\n",
       "    </tr>\n",
       "  </thead>\n",
       "  <tbody>\n",
       "    <tr>\n",
       "      <th>0</th>\n",
       "      <td>folding</td>\n",
       "      <td>499.72</td>\n",
       "      <td>61.40</td>\n",
       "      <td>6.46</td>\n",
       "    </tr>\n",
       "    <tr>\n",
       "      <th>1</th>\n",
       "      <td>mountain</td>\n",
       "      <td>507.02</td>\n",
       "      <td>59.79</td>\n",
       "      <td>6.52</td>\n",
       "    </tr>\n",
       "    <tr>\n",
       "      <th>2</th>\n",
       "      <td>road</td>\n",
       "      <td>503.02</td>\n",
       "      <td>61.19</td>\n",
       "      <td>6.56</td>\n",
       "    </tr>\n",
       "    <tr>\n",
       "      <th>3</th>\n",
       "      <td>standard</td>\n",
       "      <td>489.85</td>\n",
       "      <td>59.81</td>\n",
       "      <td>6.50</td>\n",
       "    </tr>\n",
       "  </tbody>\n",
       "</table>\n",
       "</div>"
      ],
      "text/plain": [
       "  bike_type  avg_production_cost  avg_assembly_time  avg_customer_score\n",
       "0   folding               499.72              61.40                6.46\n",
       "1  mountain               507.02              59.79                6.52\n",
       "2      road               503.02              61.19                6.56\n",
       "3  standard               489.85              59.81                6.50"
      ]
     },
     "execution_count": 3,
     "metadata": {},
     "output_type": "execute_result"
    }
   ],
   "source": [
    "# Task 2\n",
    "# Group by bike_type and calculate the averages for the relevant columns\n",
    "bike_type_data = df.groupby('bike_type').agg(\n",
    "    avg_production_cost=('production_cost', 'mean'),\n",
    "    avg_assembly_time=('assembly_time', 'mean'),\n",
    "    avg_customer_score=('customer_score', 'mean')\n",
    ").reset_index()\n",
    "\n",
    "bike_type_data = bike_type_data.round({'avg_production_cost': 2, 'avg_assembly_time': 2, 'avg_customer_score': 2})\n",
    "bike_type_data\n"
   ]
  },
  {
   "cell_type": "markdown",
   "id": "42718e48-205a-48ab-8ddc-a93857b71726",
   "metadata": {},
   "source": [
    "# Task 3\n",
    "\n",
    "In order to proceed with further analysis, you need to understand how key production and satisfaction factors relate to each other. Start by calculating the mean and standard deviation for the following columns: `production_cost` and `customer_score`. These statistics will help in understanding the central tendency and variability of the data related to e-bike production and customer feedback.\n",
    "\n",
    "Next, calculate the Pearson correlation coefficient between `production_cost` and `customer_score`. This correlation coefficient will provide insights into the strength and direction of the relationship between production costs and customer satisfaction.\n",
    "\n",
    "- You should start with the data in the file `ebike_data.csv`.\n",
    "- Calculate the mean and standard deviation for the columns `production_cost` and `customer_score` as: `production_cost_mean`, `production_cost_sd`, `customer_score_mean`, and `customer_score_sd`.\n",
    "- Calculate the Pearson correlation coefficient between `production_cost` and `customer_score` as `corr_coef`.\n",
    "- Your output should be a data frame named bike_analysis.\n",
    "- It should include the columns: `production_cost_mean`, `production_cost_sd`, `customer_score_mean`, `customer_score_sd`, and `corr_coef`.\n",
    "- Ensure that your answers are rounded to 2 decimal places.\n"
   ]
  },
  {
   "cell_type": "code",
   "execution_count": 4,
   "id": "eb9b11fd-07d5-4a39-b2fa-afaa69285e3b",
   "metadata": {
    "executionCancelledAt": null,
    "executionTime": 48,
    "lastExecutedAt": 1735004324802,
    "lastExecutedByKernel": "388d554a-4bd8-4837-b857-1a6d6e0db61a",
    "lastScheduledRunId": null,
    "lastSuccessfullyExecutedCode": "# Task 3\n# Calculate mean and standard deviation for production_cost and customer_score\nproduction_cost_mean = df['production_cost'].mean()\nproduction_cost_sd = df['production_cost'].std()\ncustomer_score_mean = df['customer_score'].mean()\ncustomer_score_sd = df['customer_score'].std()\n\n# Calculate the Pearson correlation coefficient between production_cost and customer_score\ncorr_coef = df['production_cost'].corr(df['customer_score'])\n\n# Create a DataFrame with the results\nbike_analysis = pd.DataFrame({\n    'production_cost_mean': [round(production_cost_mean, 2)],\n    'production_cost_sd': [round(production_cost_sd, 2)],\n    'customer_score_mean': [round(customer_score_mean, 2)],\n    'customer_score_sd': [round(customer_score_sd, 2)],\n    'corr_coef': [round(corr_coef, 2)]\n})\n\n# Display the resulting dataframe\nbike_analysis\n",
    "outputsMetadata": {
     "0": {
      "height": 50,
      "tableState": {
       "customFilter": {
        "const": {
         "type": "boolean",
         "valid": true,
         "value": true
        },
        "id": "363d12f5-e0f6-40b9-874a-69dce0877967",
        "nodeType": "const"
       },
       "quickFilterText": ""
      },
      "type": "dataFrame"
     }
    }
   },
   "outputs": [
    {
     "data": {
      "text/html": [
       "<div>\n",
       "<style scoped>\n",
       "    .dataframe tbody tr th:only-of-type {\n",
       "        vertical-align: middle;\n",
       "    }\n",
       "\n",
       "    .dataframe tbody tr th {\n",
       "        vertical-align: top;\n",
       "    }\n",
       "\n",
       "    .dataframe thead th {\n",
       "        text-align: right;\n",
       "    }\n",
       "</style>\n",
       "<table border=\"1\" class=\"dataframe\">\n",
       "  <thead>\n",
       "    <tr style=\"text-align: right;\">\n",
       "      <th></th>\n",
       "      <th>production_cost_mean</th>\n",
       "      <th>production_cost_sd</th>\n",
       "      <th>customer_score_mean</th>\n",
       "      <th>customer_score_sd</th>\n",
       "      <th>corr_coef</th>\n",
       "    </tr>\n",
       "  </thead>\n",
       "  <tbody>\n",
       "    <tr>\n",
       "      <th>0</th>\n",
       "      <td>500.0</td>\n",
       "      <td>173.34</td>\n",
       "      <td>6.51</td>\n",
       "      <td>1.63</td>\n",
       "      <td>0.48</td>\n",
       "    </tr>\n",
       "  </tbody>\n",
       "</table>\n",
       "</div>"
      ],
      "text/plain": [
       "   production_cost_mean  production_cost_sd  customer_score_mean  \\\n",
       "0                 500.0              173.34                 6.51   \n",
       "\n",
       "   customer_score_sd  corr_coef  \n",
       "0               1.63       0.48  "
      ]
     },
     "execution_count": 4,
     "metadata": {},
     "output_type": "execute_result"
    }
   ],
   "source": [
    "# Task 3\n",
    "# Mean and standard deviation for production_cost and customer_score\n",
    "production_cost_mean = df['production_cost'].mean()\n",
    "production_cost_sd = df['production_cost'].std()\n",
    "customer_score_mean = df['customer_score'].mean()\n",
    "customer_score_sd = df['customer_score'].std()\n",
    "\n",
    "# Pearson correlation coefficient between production_cost and customer_score\n",
    "corr_coef = df['production_cost'].corr(df['customer_score'])\n",
    "\n",
    "# DataFrame with the results\n",
    "bike_analysis = pd.DataFrame({\n",
    "    'production_cost_mean': [round(production_cost_mean, 2)],\n",
    "    'production_cost_sd': [round(production_cost_sd, 2)],\n",
    "    'customer_score_mean': [round(customer_score_mean, 2)],\n",
    "    'customer_score_sd': [round(customer_score_sd, 2)],\n",
    "    'corr_coef': [round(corr_coef, 2)]\n",
    "})\n",
    "\n",
    "bike_analysis\n"
   ]
  }
 ],
 "metadata": {
  "colab": {
   "name": "Welcome to DataCamp Workspaces.ipynb",
   "provenance": []
  },
  "editor": "DataLab",
  "kernelspec": {
   "display_name": "Python 3",
   "language": "python",
   "name": "python3"
  },
  "language_info": {
   "codemirror_mode": {
    "name": "ipython",
    "version": 3
   },
   "file_extension": ".py",
   "mimetype": "text/x-python",
   "name": "python",
   "nbconvert_exporter": "python",
   "pygments_lexer": "ipython3",
   "version": "3.12.3"
  }
 },
 "nbformat": 4,
 "nbformat_minor": 5
}
